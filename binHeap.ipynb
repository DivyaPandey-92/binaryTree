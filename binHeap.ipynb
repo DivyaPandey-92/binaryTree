{
 "cells": [
  {
   "cell_type": "code",
   "execution_count": null,
   "metadata": {},
   "outputs": [],
   "source": [
    "def buildHeap(self,alist):\n",
    "    i = len(alist) // 2\n",
    "    self.currentSize = len(alist)\n",
    "    self.heapList = [0] + alist[:]\n",
    "    while (i > 0):\n",
    "        self.percDown(i)\n",
    "        i = i - 1"
   ]
  }
 ],
 "metadata": {
  "kernelspec": {
   "display_name": "Python 3.9.1 64-bit",
   "language": "python",
   "name": "python3"
  },
  "language_info": {
   "name": "python",
   "version": "3.9.1"
  },
  "orig_nbformat": 4,
  "vscode": {
   "interpreter": {
    "hash": "c015e0e6a20a70f8474d412d1f340c97be77a0c89b4775d2404595dcfa6c2141"
   }
  }
 },
 "nbformat": 4,
 "nbformat_minor": 2
}
