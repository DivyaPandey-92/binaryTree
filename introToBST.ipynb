{
 "cells": [
  {
   "cell_type": "code",
   "execution_count": null,
   "metadata": {},
   "outputs": [],
   "source": [
    "class BST:\n",
    "    \n",
    "    def __init__(self):\n",
    "        self.root = None\n",
    "        \n",
    "    def add(self, value):\n",
    "        if self.root is None:\n",
    "            # The root does exist yet, create it\n",
    "            self.root = Node(value)\n",
    "        else:\n",
    "            # Find the right place and insert new value\n",
    "            self.add_recursive(self.root, value)\n",
    "            \n",
    "    # Define and implement the add_recursive() method here\n",
    "# Answer\n",
    "class BST:\n",
    "    \n",
    "    def __init__(self):\n",
    "        self.root = None\n",
    "        \n",
    "    def add(self, value):\n",
    "        if self.root is None:\n",
    "            # The root does exist yet, create it\n",
    "            self.root = Node(value)\n",
    "        else:\n",
    "            # Find the right place and insert new value\n",
    "            self.add_recursive(self.root, value)\n",
    "            \n",
    "    def add_recursive(self, current_node, value):\n",
    "        if value <= current_node.value:\n",
    "            # Go to the left\n",
    "            if current_node.left_child is None:\n",
    "                current_node.left_child = Node(value)\n",
    "            else:\n",
    "                self.add_recursive(current_node.left_child, value)\n",
    "        else:\n",
    "            # Go to the right\n",
    "            if current_node.right_child is None:\n",
    "                current_node.right_child = Node(value)\n",
    "            else:\n",
    "                self.add_recursive(current_node.right_child, value)"
   ]
  }
 ],
 "metadata": {
  "language_info": {
   "name": "python"
  },
  "orig_nbformat": 4
 },
 "nbformat": 4,
 "nbformat_minor": 2
}
