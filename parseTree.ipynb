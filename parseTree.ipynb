{
 "cells": [
  {
   "cell_type": "code",
   "execution_count": 1,
   "metadata": {},
   "outputs": [
    {
     "ename": "ModuleNotFoundError",
     "evalue": "No module named 'pythonds'",
     "output_type": "error",
     "traceback": [
      "\u001b[1;31m---------------------------------------------------------------------------\u001b[0m",
      "\u001b[1;31mModuleNotFoundError\u001b[0m                       Traceback (most recent call last)",
      "\u001b[1;32mc:\\DATA\\Divya_data\\Git\\binaryTree\\parseTree.ipynb Cell 1\u001b[0m in \u001b[0;36m<cell line: 3>\u001b[1;34m()\u001b[0m\n\u001b[0;32m      <a href='vscode-notebook-cell:/c%3A/DATA/Divya_data/Git/binaryTree/parseTree.ipynb#W0sZmlsZQ%3D%3D?line=0'>1</a>\u001b[0m \u001b[39mfrom\u001b[39;00m \u001b[39minspect\u001b[39;00m \u001b[39mimport\u001b[39;00m stack\n\u001b[0;32m      <a href='vscode-notebook-cell:/c%3A/DATA/Divya_data/Git/binaryTree/parseTree.ipynb#W0sZmlsZQ%3D%3D?line=1'>2</a>\u001b[0m \u001b[39mfrom\u001b[39;00m \u001b[39mmimetypes\u001b[39;00m \u001b[39mimport\u001b[39;00m init\n\u001b[1;32m----> <a href='vscode-notebook-cell:/c%3A/DATA/Divya_data/Git/binaryTree/parseTree.ipynb#W0sZmlsZQ%3D%3D?line=2'>3</a>\u001b[0m \u001b[39mfrom\u001b[39;00m \u001b[39mpythonds\u001b[39;00m\u001b[39m.\u001b[39;00m\u001b[39mbasic\u001b[39;00m \u001b[39mimport\u001b[39;00m Stack\n\u001b[0;32m      <a href='vscode-notebook-cell:/c%3A/DATA/Divya_data/Git/binaryTree/parseTree.ipynb#W0sZmlsZQ%3D%3D?line=3'>4</a>\u001b[0m \u001b[39mfrom\u001b[39;00m \u001b[39mpythonds\u001b[39;00m\u001b[39m.\u001b[39;00m\u001b[39mtrees\u001b[39;00m \u001b[39mimport\u001b[39;00m BinaryTree\n\u001b[0;32m      <a href='vscode-notebook-cell:/c%3A/DATA/Divya_data/Git/binaryTree/parseTree.ipynb#W0sZmlsZQ%3D%3D?line=5'>6</a>\u001b[0m \u001b[39mdef\u001b[39;00m \u001b[39mbuildParseTree\u001b[39m(fexp):\n",
      "\u001b[1;31mModuleNotFoundError\u001b[0m: No module named 'pythonds'"
     ]
    }
   ],
   "source": [
    "from inspect import stack\n",
    "from mimetypes import init\n",
    "from pythonds.basic import Stack\n",
    "from pythonds.trees import BinaryTree\n",
    "\n",
    "def buildParseTree(fexp):\n",
    "    flist=fexp.split(\" \")\n",
    "    etree=binaryTree('')\n",
    "    pstack=stack()\n",
    "    pstack.insert(etree)\n",
    "\n",
    "    \n",
    "    currentTree=etree\n",
    "    \n",
    "    for i in flist:\n",
    "        if i=='(':\n",
    "            currentTree.insertLeftChild('')\n",
    "            pstack.insert(currentTree)\n",
    "            currentTree=currentTree.getLeftChild()\n",
    "\n",
    "        elif i not in ['+', '-', '*', '/']:\n",
    "            currentTree.setRootVal(int(i))\n",
    "            parent=pstack.pop()\n",
    "            currentTree=parent\n",
    "\n",
    "        elif i in ['+', '-', '*', '/']:\n",
    "            currentTree.setRootVal(i)\n",
    "            pstack.insert(currentTree)\n",
    "            currentTree.getRightChild('')\n",
    "\n",
    "        elif i ==')':\n",
    "            currentTree=pstack.pop()"
   ]
  },
  {
   "cell_type": "code",
   "execution_count": null,
   "metadata": {},
   "outputs": [],
   "source": [
    "listings 5\n",
    "def evaluate(parseTree):\n",
    "    leftC=parseTree.getLeftChild()\n",
    "    rightC=pasrseTree.getRightChild()\n",
    "    if leftC && rightC:\n"
   ]
  }
 ],
 "metadata": {
  "kernelspec": {
   "display_name": "Python 3.9.1 64-bit",
   "language": "python",
   "name": "python3"
  },
  "language_info": {
   "codemirror_mode": {
    "name": "ipython",
    "version": 3
   },
   "file_extension": ".py",
   "mimetype": "text/x-python",
   "name": "python",
   "nbconvert_exporter": "python",
   "pygments_lexer": "ipython3",
   "version": "3.9.1"
  },
  "orig_nbformat": 4,
  "vscode": {
   "interpreter": {
    "hash": "c015e0e6a20a70f8474d412d1f340c97be77a0c89b4775d2404595dcfa6c2141"
   }
  }
 },
 "nbformat": 4,
 "nbformat_minor": 2
}
