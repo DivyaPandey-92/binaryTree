{
 "cells": [
  {
   "cell_type": "code",
   "execution_count": 1,
   "metadata": {},
   "outputs": [],
   "source": [
    "#Iterative method\n",
    "def dfs(self, root):\n",
    "    pstack= Stack()\n",
    "    pstack.push(root)\n",
    "\n",
    "    while pstack.length()>0:\n",
    "        current=pstack.pop()\n",
    "        if current.right():\n",
    "            pstack.push(current.right)\n",
    "        if current.left():\n",
    "            pstack.push(current.left)\n",
    "\n",
    "\n"
   ]
  },
  {
   "cell_type": "code",
   "execution_count": null,
   "metadata": {},
   "outputs": [],
   "source": [
    "#Recursive method\n"
   ]
  }
 ],
 "metadata": {
  "kernelspec": {
   "display_name": "Python 3.9.1 64-bit",
   "language": "python",
   "name": "python3"
  },
  "language_info": {
   "codemirror_mode": {
    "name": "ipython",
    "version": 3
   },
   "file_extension": ".py",
   "mimetype": "text/x-python",
   "name": "python",
   "nbconvert_exporter": "python",
   "pygments_lexer": "ipython3",
   "version": "3.9.1"
  },
  "orig_nbformat": 4,
  "vscode": {
   "interpreter": {
    "hash": "c015e0e6a20a70f8474d412d1f340c97be77a0c89b4775d2404595dcfa6c2141"
   }
  }
 },
 "nbformat": 4,
 "nbformat_minor": 2
}
