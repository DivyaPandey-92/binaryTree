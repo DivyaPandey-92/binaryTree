{
 "cells": [
  {
   "cell_type": "code",
   "execution_count": 1,
   "metadata": {},
   "outputs": [],
   "source": [
    "class AVLTree(BST):\n",
    "    \n",
    "    def __init__(self):\n",
    "        super().__init__()\n",
    "        \n",
    "    def _add_recursive(self, current_node, value):\n",
    "        if current_node is None:\n",
    "            return AVLNode(value)\n",
    "        if value <= current_node.value:\n",
    "            current_node.left_child = self._add_recursive(current_node.left_child, value)\n",
    "        else:\n",
    "            current_node.right_child = self._add_recursive(current_node.right_child, value)\n",
    "        # Add code here to calculate the height and balance of the current node\n",
    "        \n",
    "        return current_node\n",
    "    \n",
    "    # Add get_height() method here\n",
    "class AVLTree(BST):\n",
    "    \n",
    "    def __init__(self):\n",
    "        super().__init__()\n",
    "        \n",
    "    def _add_recursive(self, current_node, value):\n",
    "        if current_node is None:\n",
    "            return AVLNode(value)\n",
    "        if value <= current_node.value:\n",
    "            current_node.left_child = self._add_recursive(current_node.left_child, value)\n",
    "        else:\n",
    "            current_node.right_child = self._add_recursive(current_node.right_child, value)\n",
    "        # Add code here to calculate the height and balance of the current node\n",
    "        current_node.calculate_height_and_imbalance() # Instruction 1\n",
    "        return current_node\n",
    "        \n",
    "    def get_height(self): # Instruction 2\n",
    "        return self.root.height\n",
    "\n",
    "    def calculate_height_and_imbalance(self):\n",
    "        # Calculate left height\n",
    "        left_height = 0\n",
    "        if self.left_child is not None:\n",
    "            left_height = self.left_child.height\n",
    "        # Calculate right height\n",
    "        right_height = 0\n",
    "        if self.right_child is not None:\n",
    "            right_height = self.right_child.height\n",
    "        # Use formulas to calculate height and imbalance\n",
    "        self.height = 1 + max(left_height, right_height)\n",
    "        self.imbalance = left_height - right_height\n",
    "    \n",
    "# Test the implementation\n",
    "\n",
    "avl = AVLTree() # Instruction 3\n",
    "avl.add(1) # Instruction 4\n",
    "avl.add(2)\n",
    "avl.add(3)\n",
    "height = avl.get_height() # Instruction 5"
   ]
  },
  {
   "cell_type": "code",
   "execution_count": null,
   "metadata": {},
   "outputs": [],
   "source": []
  }
 ],
 "metadata": {
  "kernelspec": {
   "display_name": "Python 3.9.1 64-bit",
   "language": "python",
   "name": "python3"
  },
  "language_info": {
   "codemirror_mode": {
    "name": "ipython",
    "version": 3
   },
   "file_extension": ".py",
   "mimetype": "text/x-python",
   "name": "python",
   "nbconvert_exporter": "python",
   "pygments_lexer": "ipython3",
   "version": "3.9.1"
  },
  "orig_nbformat": 4,
  "vscode": {
   "interpreter": {
    "hash": "c015e0e6a20a70f8474d412d1f340c97be77a0c89b4775d2404595dcfa6c2141"
   }
  }
 },
 "nbformat": 4,
 "nbformat_minor": 2
}
