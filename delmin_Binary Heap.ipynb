{
 "cells": [
  {
   "cell_type": "code",
   "execution_count": null,
   "metadata": {},
   "outputs": [],
   "source": [
    "def delMin(self):\n",
    "    retval = self.heapList[1]\n",
    "    self.heapList[1] = self.heapList[self.currentSize]\n",
    "    self.currentSize = self.currentSize - 1\n",
    "    self.heapList.pop()\n",
    "    self.percDown(1)\n",
    "    return retval"
   ]
  },
  {
   "cell_type": "code",
   "execution_count": null,
   "metadata": {},
   "outputs": [],
   "source": [
    "def percDown(self, i):\n",
    "    while 2*i<=self.currentSize:\n",
    "        # if self.heapList[2*i]<self.heapList[i]:\n",
    "            mc=minChild(i) \n",
    "            if heapList[i]>heapList[mc]:\n",
    "                heapList[i], heapList[mc]=heapList[mc], heapList[i]\n",
    "            i=mc\n",
    "\n",
    "\n",
    "\n",
    "    def minChild(self, i):\n",
    "        if 2*i+1>self.currentSize:\n",
    "            return 2*i\n",
    "        else:\n",
    "            if heapList[2*i]<heapList[2*i+1]:\n",
    "                return 2*i\n",
    "            else:\n",
    "                return 2*i+1\n",
    "            \n",
    "        \n"
   ]
  }
 ],
 "metadata": {
  "kernelspec": {
   "display_name": "Python 3.9.1 64-bit",
   "language": "python",
   "name": "python3"
  },
  "language_info": {
   "name": "python",
   "version": "3.9.1"
  },
  "orig_nbformat": 4,
  "vscode": {
   "interpreter": {
    "hash": "c015e0e6a20a70f8474d412d1f340c97be77a0c89b4775d2404595dcfa6c2141"
   }
  }
 },
 "nbformat": 4,
 "nbformat_minor": 2
}
