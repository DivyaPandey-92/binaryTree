{
 "cells": [
  {
   "cell_type": "code",
   "execution_count": 1,
   "metadata": {},
   "outputs": [],
   "source": [
    "class binaryTree:\n",
    "    def __init__(self, rootObj):\n",
    "        self.key=rootObj\n",
    "        self.leftChild=None\n",
    "        self.rightChild=None\n",
    "    \n",
    "    def insertLeftChild(self, newNode):\n",
    "        t=binaryTree(newNode)\n",
    "        if self.leftChild==None:\n",
    "            self.leftChild=t\n",
    "        else:\n",
    "            t.leftChild=self.leftChild\n",
    "            self.leftChild=t\n",
    "    def insertRightChild(self, newNode):\n",
    "        t=binaryTree(newNode)\n",
    "        if self.rightChild==None:\n",
    "            self.rightChild=t\n",
    "        else:\n",
    "            t.rightChild=self.rightChild\n",
    "            self.rightChild=t\n",
    "    \n",
    "    def setRootVal(self, val):\n",
    "        self.key=val\n",
    "    \n",
    "    def getRootVal(self):\n",
    "        return self.key\n",
    "    \n",
    "    def getRightChild(self):\n",
    "        return self.rightChild\n",
    "    \n",
    "    def getLeftChild(self):\n",
    "        return self.leftChild\n"
   ]
  },
  {
   "cell_type": "code",
   "execution_count": 4,
   "metadata": {},
   "outputs": [
    {
     "name": "stdout",
     "output_type": "stream",
     "text": [
      "<__main__.binaryTree object at 0x0000025D835C7610>\n",
      "None\n"
     ]
    }
   ],
   "source": [
    "r=binaryTree(3)\n",
    "print(r)\n",
    "r.insertLeftChild(8)\n",
    "r.insertRightChild(10)\n",
    "r.insertLeftChild(23)\n",
    "r.insertRightChild(78)\n",
    "r.getRootVal()\n",
    "r.setRootVal(100)\n",
    "print(r.getLeftChild().getRightChild())"
   ]
  }
 ],
 "metadata": {
  "kernelspec": {
   "display_name": "Python 3.9.1 64-bit",
   "language": "python",
   "name": "python3"
  },
  "language_info": {
   "codemirror_mode": {
    "name": "ipython",
    "version": 3
   },
   "file_extension": ".py",
   "mimetype": "text/x-python",
   "name": "python",
   "nbconvert_exporter": "python",
   "pygments_lexer": "ipython3",
   "version": "3.9.1"
  },
  "orig_nbformat": 4,
  "vscode": {
   "interpreter": {
    "hash": "c015e0e6a20a70f8474d412d1f340c97be77a0c89b4775d2404595dcfa6c2141"
   }
  }
 },
 "nbformat": 4,
 "nbformat_minor": 2
}
